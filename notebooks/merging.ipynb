{
 "cells": [
  {
   "cell_type": "code",
   "execution_count": null,
   "metadata": {},
   "outputs": [],
   "source": [
    "import os\n",
    "import re\n",
    "\n",
    "mots_to_delete =[\"ee\", \"gr\", \"oe\", \"eee\", \"be\", \"oo\", \"ii\", \"ct\", \"we\", \"ie\", \"at\", \"qf\", \"pe\", \"he\", \"an\", \"eae\", \"ey\",\n",
    "                \"fe\", \"eo\", \"er\", \"ea\", \"ge\", \"see\", \"ay\", \"ees\", \"pee\", \"so\", \"oa\", \"of\",\"ar\", \"ete\", \"ja\", \"ye\", \"pa\",\n",
    "                \"eta\", \". .\", \"om\"]\n",
    "\n",
    "def merge_txt_files(input_folder):\n",
    "    for subfolder in os.listdir(input_folder):\n",
    "        if subfolder != '.DS_Store':\n",
    "            subdir_path = os.path.join(input_folder, subfolder)\n",
    "            output_file = os.path.join(input_folder, subfolder + '.txt')\n",
    "            with open(output_file, 'w', encoding='utf-8') as outfile:\n",
    "                for filename in sorted(os.listdir(subdir_path)):\n",
    "                    if filename.endswith('.txt'):\n",
    "                        with open(os.path.join(subdir_path, filename), 'r', encoding='utf-8') as infile:\n",
    "                            for line in infile:\n",
    "                                line = re.sub(r'\\b4\\b', 'à', line)\n",
    "                                line = re.sub(r'[^a-zA-Z0-9.,;?!:éàèê\\- \\' \\n]', '', line)\n",
    "                                for word in mots_to_delete:\n",
    "                                    line = re.sub(r'\\b' + word + r'\\b', '', line)\n",
    "                                if line.endswith('-\\n'):\n",
    "                                    line = line[:-2]\n",
    "                                if len(line.strip()) > 1:\n",
    "                                    outfile.write(line)"
   ]
  },
  {
   "cell_type": "code",
   "execution_count": null,
   "metadata": {},
   "outputs": [],
   "source": [
    "merge_txt_files('../data/txt/ouvrages_mixtes')\n",
    "merge_txt_files('../data/txt/ouvrages_masculins')\n",
    "merge_txt_files('../data/txt/ouvrages_feminins')\n"
   ]
  },
  {
   "cell_type": "code",
   "execution_count": null,
   "metadata": {},
   "outputs": [],
   "source": []
  }
 ],
 "metadata": {
  "kernelspec": {
   "display_name": "3.10.13",
   "language": "python",
   "name": "python3"
  },
  "language_info": {
   "codemirror_mode": {
    "name": "ipython",
    "version": 3
   },
   "file_extension": ".py",
   "mimetype": "text/x-python",
   "name": "python",
   "nbconvert_exporter": "python",
   "pygments_lexer": "ipython3",
   "version": "3.10.13"
  }
 },
 "nbformat": 4,
 "nbformat_minor": 2
}
