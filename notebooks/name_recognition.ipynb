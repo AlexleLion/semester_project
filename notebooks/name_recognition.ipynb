{
 "cells": [
  {
   "cell_type": "code",
   "execution_count": 7,
   "metadata": {},
   "outputs": [],
   "source": [
    "import spacy\n",
    "import nltk\n",
    "from nltk.tokenize import word_tokenize\n",
    "import os\n",
    "import csv\n",
    "import re\n",
    "import string\n",
    "import pandas as pd\n"
   ]
  },
  {
   "cell_type": "code",
   "execution_count": 57,
   "metadata": {},
   "outputs": [],
   "source": [
    "def recognite(data_path, nlp, ner_categories):\n",
    "    entities = []\n",
    "    for sub_dir in os.listdir(data_path):\n",
    "        for f in os.listdir(os.path.join(data_path, sub_dir)):\n",
    "            with open(os.path.join(data_path, sub_dir, f), 'r') as file:\n",
    "                text = file.read()\n",
    "                for ent in nlp(text).ents:\n",
    "                    if ent.label_ in ner_categories:\n",
    "                        entities.append(ent.text)\n",
    "    return entities\n",
    "    \n"
   ]
  },
  {
   "cell_type": "code",
   "execution_count": 62,
   "metadata": {},
   "outputs": [],
   "source": [
    "data_path = '../data/txt/ouvrages_mixtes'\n",
    "nlp = spacy.load('fr_core_web_sm')\n",
    "ner_categories =['PER']\n",
    "\n",
    "doc = recognite(data_path, nlp, ner_categories)"
   ]
  },
  {
   "cell_type": "code",
   "execution_count": 63,
   "metadata": {},
   "outputs": [
    {
     "data": {
      "text/plain": [
       "[]"
      ]
     },
     "execution_count": 63,
     "metadata": {},
     "output_type": "execute_result"
    }
   ],
   "source": [
    "def extract_names(data_path):\n",
    "    for subdirectory in os.listdir(data_path):\n",
    "        subdirectory_path = os.path.join(data_path, subdirectory)\n",
    "        if os.path.isdir(subdirectory_path):\n",
    "\n",
    "            num_pages = len([filename for filename in os.listdir(subdirectory_path) if filename.endswith('.txt')])\n",
    "\n",
    "            for filename in os.listdir(subdirectory_path):\n",
    "                if filename.endswith('.txt'):\n",
    "                    file_path = os.path.join(subdirectory_path, filename)\n",
    "                    with open(file_path, 'r', encoding='utf-8') as file:\n",
    "                        content = file.read()\n",
    "                    \n",
    "                        title = file_path.split('/')[4]\n",
    "                        \n",
    "                        author_pattern = re.compile(r'\\b(Mme|Madame|M|Mr|Dr|Docteur|docteur|Monsieur|monsieur|madame|professeur|Professeur)\\b\\s+(\\S+\\s+\\S+\\s+\\S+)|(?<!\\.\\s)(\\b[A-Z][a-z]+\\b)')\n",
    "                        author_match = author_pattern.search(content[:500])\n",
    "                        author = author_match.group(0) if author_match else 'auteur inconnu'\n",
    "                        data_mixtes = []\n",
    "                        if author != 'auteur inconnu':\n",
    "                            data_mixtes.append([title, author, num_pages])\n",
    "\n",
    "    df = pd.DataFrame(data_mixtes, columns=['Titre', 'Auteur', 'Nbr_pages'])\n",
    "    context_name = data_path.split('_')[-1]\n",
    "    df.to_csv(f'../data/contexte/contexte_{context_name}.csv', index=False)\n",
    "    return title, author"
   ]
  },
  {
   "cell_type": "code",
   "execution_count": null,
   "metadata": {},
   "outputs": [],
   "source": []
  }
 ],
 "metadata": {
  "kernelspec": {
   "display_name": "Python 3",
   "language": "python",
   "name": "python3"
  },
  "language_info": {
   "codemirror_mode": {
    "name": "ipython",
    "version": 3
   },
   "file_extension": ".py",
   "mimetype": "text/x-python",
   "name": "python",
   "nbconvert_exporter": "python",
   "pygments_lexer": "ipython3",
   "version": "3.10.13"
  }
 },
 "nbformat": 4,
 "nbformat_minor": 2
}
