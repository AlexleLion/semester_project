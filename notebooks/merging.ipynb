{
 "cells": [
  {
   "cell_type": "code",
   "execution_count": 14,
   "metadata": {},
   "outputs": [],
   "source": [
    "import os\n",
    "import re\n",
    "\n",
    "input_folder = '../data/txt/ouvrages_mixtes/01/'\n",
    "output_file = '../data/txt/merged_output.txt'\n",
    "\n",
    "# Define the symbols to be removed\n",
    "symbols_to_remove = r'[|\\\\\\/\\+\\-=#%$€£`&°~<>©¢™@—]'\n",
    "\n",
    "# Get a list of all txt files in the input folder\n",
    "txt_files = [f for f in os.listdir(input_folder) if f.endswith('.txt')]\n",
    "txt_files.sort()  # Ensure the files are in order\n",
    "\n",
    "with open(output_file, 'w', encoding='utf-8') as outfile:\n",
    "    for txt_file in txt_files:\n",
    "        with open(os.path.join(input_folder, txt_file), 'r', encoding='utf-8') as infile:\n",
    "            content = infile.read()\n",
    "            # Remove the specified symbols\n",
    "            cleaned_content = re.sub(symbols_to_remove, '', content)\n",
    "            # Remove all single characters except 'à' and 'a'\n",
    "            cleaned_content = re.sub(r'\\b(?!à\\b|a\\b|L\\b|l\\b|d\\b|D\\b|c\\b|C\\b|S\\b|s\\b)\\w\\b', '', cleaned_content)\n",
    "            # Remove all two-letter words that are not French words\n",
    "            french_two_letter_words = {'au', 'du', 'de', 'en', 'et', 'il', 'la', 'le', 'ne', 'ou', 'si', 'un', 'à', 'es', 'ai', 'as', 'bu',\n",
    "                                       'ca', 'ça', 'ce', 'ci', 'il', 'tu', 'je', 'on', 'ni', 'or', 'eu', 'lu', 'mu', 'nu', 'os', 'pu', 'su', \n",
    "                                       'ri', 'vu', 'se'}\n",
    "            # Remove all lines that have only a newline, only spaces, or less than 3 characters\n",
    "            cleaned_content = '\\n'.join([line for line in cleaned_content.split('\\n') if len(line.strip()) >= 3])\n",
    "            # Remove punctuation if there is no letter before or after\n",
    "            cleaned_content = re.sub(r'(?<!\\w)[^\\w\\s](?!\\w)', '', cleaned_content)\n",
    "            cleaned_content = re.sub(r'\\b(?!' + '|'.join(french_two_letter_words) + r'\\b)\\w{2}\\b', '', cleaned_content)\n",
    "            outfile.write(cleaned_content + '\\n')"
   ]
  },
  {
   "cell_type": "code",
   "execution_count": null,
   "metadata": {},
   "outputs": [],
   "source": []
  }
 ],
 "metadata": {
  "kernelspec": {
   "display_name": "Python 3",
   "language": "python",
   "name": "python3"
  },
  "language_info": {
   "codemirror_mode": {
    "name": "ipython",
    "version": 3
   },
   "file_extension": ".py",
   "mimetype": "text/x-python",
   "name": "python",
   "nbconvert_exporter": "python",
   "pygments_lexer": "ipython3",
   "version": "3.10.13"
  }
 },
 "nbformat": 4,
 "nbformat_minor": 2
}
