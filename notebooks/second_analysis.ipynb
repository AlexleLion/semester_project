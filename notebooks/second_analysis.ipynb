{
 "cells": [
  {
   "cell_type": "code",
   "execution_count": 1,
   "metadata": {},
   "outputs": [],
   "source": [
    "import os\n",
    "import shutil\n",
    "import re\n",
    "\n",
    "base_path = '../data/txt/ouvrages_mixtes'\n",
    "\n",
    "# List all directories in the base_path\n",
    "directories = [d for d in os.listdir(base_path) if os.path.isdir(os.path.join(base_path, d))]\n",
    "\n",
    "# Create a regex pattern to match directories of the form XX_part...\n",
    "pattern = re.compile(r'(\\d{2})_part')\n",
    "\n",
    "# Dictionary to hold the directories to be merged\n",
    "merge_dict = {}\n",
    "\n",
    "# Populate the merge_dict with directories to be merged\n",
    "for directory in directories:\n",
    "    match = pattern.match(directory)\n",
    "    if match:\n",
    "        number = match.group(1)\n",
    "        if number not in merge_dict:\n",
    "            merge_dict[number] = []\n",
    "        merge_dict[number].append(directory)"
   ]
  },
  {
   "cell_type": "code",
   "execution_count": 2,
   "metadata": {},
   "outputs": [],
   "source": [
    "# Merge the directories\n",
    "for number, dirs in merge_dict.items():\n",
    "    target_dir = os.path.join(base_path, number)\n",
    "    os.makedirs(target_dir, exist_ok=True)\n",
    "    last_page_number = 0\n",
    "\n",
    "    for dir in sorted(dirs):\n",
    "        dir_path = os.path.join(base_path, dir)\n",
    "        files = sorted(os.listdir(dir_path), key=lambda x: int(re.search(r'\\d+', x).group()))\n",
    "        i = 1\n",
    "        for file_name in files:\n",
    "            if dir != f\"{number}_part_{i}\":\n",
    "                last_page_number += 1\n",
    "                new_file_name = f\"page_{last_page_number}.txt\"\n",
    "            else:\n",
    "                new_file_name = file_name\n",
    "            \n",
    "            shutil.move(os.path.join(dir_path, file_name), os.path.join(target_dir, new_file_name))\n",
    "            i +=1\n",
    "        \n",
    "        os.rmdir(dir_path)"
   ]
  },
  {
   "cell_type": "code",
   "execution_count": null,
   "metadata": {},
   "outputs": [],
   "source": []
  }
 ],
 "metadata": {
  "kernelspec": {
   "display_name": "3.10.13",
   "language": "python",
   "name": "python3"
  },
  "language_info": {
   "codemirror_mode": {
    "name": "ipython",
    "version": 3
   },
   "file_extension": ".py",
   "mimetype": "text/x-python",
   "name": "python",
   "nbconvert_exporter": "python",
   "pygments_lexer": "ipython3",
   "version": "3.10.13"
  }
 },
 "nbformat": 4,
 "nbformat_minor": 2
}
