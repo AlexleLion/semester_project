{
 "cells": [
  {
   "cell_type": "code",
   "execution_count": null,
   "metadata": {},
   "outputs": [],
   "source": [
    "import pandas as pd\n",
    "from pdf2image import convert_from_path\n",
    "import PyPDF2 as pdf\n",
    "\n",
    "pdf_file = \"../sources/ouvrages_feminins/\"\n",
    "with open(pdf_file.name, 'rb') as file:\n",
    "    pdf_reader = pdf.PdfFileReader(file)\n",
    "    page = pdf_reader.getPage(0)\n",
    "    text = page.extract_text()\n",
    "\n",
    "# Convert the first page of the PDF to a JPG image\n",
    "images = convert_from_path(pdf_file.name, first_page=0, last_page=1)\n",
    "image_path = pdf_file.name.replace('.pdf', '.jpg')\n",
    "images[0].save(image_path, 'JPEG')"
   ]
  },
  {
   "cell_type": "code",
   "execution_count": 6,
   "metadata": {},
   "outputs": [
    {
     "name": "stdout",
     "output_type": "stream",
     "text": [
      "Fichiers renommés :\n",
      "01_Atlas-manuel_de_gymnastique_orthopédique_traitement_[...]Nageotte_Wilbouchewitch_bpt6k56269533.pdf\n",
      "02_Auprès_du_Berceau_par_docteur_[...]Le_conte_bpt6k6464767n.pdf\n",
      "03_Comment_on_doit_nourrir_les_[...]Sosnowska_Hélène_bpt6k6470301j.pdf\n",
      "04_Conquete et culture de la beaute 1-100.pdf\n",
      "05_Conquete et culture de la beaute 100-200.pdf\n",
      "06_Conquete et culture de la beaute 200-233.pdf\n",
      "07_Conseils_à_une_mère_sur_[...]Missart_Mme_bpt6k64659845.pdf\n",
      "08_Conseils_pratiques_aux_jeunes_mères_[...]Lekeu_Mme_bpt6k6464706z.pdf\n",
      "09_Considérations_sur_les_infirmières_des_[...]Hamilton_Anna_bpt6k854187n.pdf\n",
      "10_Essai_sur_l'hygiène_et_la_[...]Girard_Mangin_bpt6k57752352.pdf\n",
      "11_Hygiène_générale_de_la_femme_[...]Schultz_Marie_bpt6k6461372n.pdf\n",
      "12_Hygiène_génitale_de_la_femme_[...]Schultz_Marie_bpt6k6461410w.pdf\n",
      "13_Hygiène_génitale_de_la_femme_[...]Schultz_Marie_bpt6k6467204b.pdf\n",
      "14_L'Enfant_hygiène_et_soins_maternels_[...]Dufaux_de_bpt6k6468092j.pdf\n",
      "15_L'Hygiène_de_la_femme_professeur_[...]Dupont_Maria_bpt6k8889945.pdf\n",
      "16_L'allaitement_artificiel_et_le_biberon_[...]Brès_Madeleine_bpt6k6465612n.pdf\n",
      "17_La_Femme_d'après_la_physiologie_[...]Rossetti_Adélaïde_bpt6k6275848r.pdf\n",
      "18_La_cuisine_rationnelle_des_malades_[...]Moll-Weiss_Augusta_bpt6k55351658.pdf\n",
      "19_La_femme_la_mère_l'enfant_[...]Moll-Weiss_Augusta_bpt6k6568985r.pdf\n",
      "20_La_femme_médecin_du_foyer_[...]Fischer-Dückelmann_Anna_bpt6k3411216p.pdf\n",
      "21_Le_Bébé_notions_élémentaires_de_[...]Bertin_Marthe_bpt6k6467377k.pdf\n",
      "22_Le_Livre_des_jeunes_mères_[...]Millet-Robinet_Cora_bpt6k11942425.pdf\n",
      "23_Le_livre_du_foyer___[...]Moll-Weiss_Augusta_bpt6k1158912k.pdf\n",
      "24_Les_Quatre_âges_de_la_[...]Gensse_A_bd6t53746868.pdf\n",
      "25_Les_douze_premiers_Mois_de_[...]Baraduc_Juliette_bpt6k64693546.pdf\n",
      "26_Livret_de_puériculture_par_Mme_[...]Bélime-Laugier_Lucie_bpt6k6464141b.pdf\n",
      "27_Maman_dis_moi.pdf\n",
      "28_Manuel_des_jeunes_mères___[...]Maraval_L_bpt6k6461343x.pdf\n",
      "29_Notice_sur_les_soins_à_[...]Bertin_Alexandrine_bpt6k6462270s.pdf\n",
      "30_Premiers_soins_aux_malades_et_[...]Gross_Droz_bpt6k5706669m.pdf\n",
      "31_Tu_seras_mere.pdf\n"
     ]
    }
   ],
   "source": [
    "import os\n",
    "\n",
    "# Chemin du dossier contenant les fichiers PDF\n",
    "dossier_pdf = '../sources/ouvrages_feminins'\n",
    "\n",
    "# Liste des fichiers PDF dans le dossier\n",
    "pdf_files = [f for f in os.listdir(dossier_pdf) if f.endswith('.pdf')]\n",
    "\n",
    "# Renommer les fichiers en ajoutant un numéro en ordre croissant\n",
    "for i, filename in enumerate(sorted(pdf_files), start=1):\n",
    "    new_filename = f\"{i:02d}_{filename}\"\n",
    "    os.rename(os.path.join(dossier_pdf, filename), os.path.join(dossier_pdf, new_filename))\n",
    "\n",
    "# Afficher les nouveaux noms de fichiers\n",
    "print(\"Fichiers renommés :\")\n",
    "for filename in sorted(os.listdir(dossier_pdf)):\n",
    "    if filename.endswith('.pdf'):\n",
    "        print(filename)"
   ]
  },
  {
   "cell_type": "code",
   "execution_count": null,
   "metadata": {},
   "outputs": [],
   "source": []
  }
 ],
 "metadata": {
  "language_info": {
   "name": "python"
  }
 },
 "nbformat": 4,
 "nbformat_minor": 2
}
